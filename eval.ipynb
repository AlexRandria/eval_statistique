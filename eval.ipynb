{
 "metadata": {
  "language_info": {
   "codemirror_mode": {
    "name": "ipython",
    "version": 3
   },
   "file_extension": ".py",
   "mimetype": "text/x-python",
   "name": "python",
   "nbconvert_exporter": "python",
   "pygments_lexer": "ipython3",
   "version": "3.9.4"
  },
  "orig_nbformat": 2,
  "kernelspec": {
   "name": "python394jvsc74a57bd0ac59ebe37160ed0dfa835113d9b8498d9f09ceb179beaac4002f036b9467c963",
   "display_name": "Python 3.9.4 64-bit"
  },
  "metadata": {
   "interpreter": {
    "hash": "ac59ebe37160ed0dfa835113d9b8498d9f09ceb179beaac4002f036b9467c963"
   }
  }
 },
 "nbformat": 4,
 "nbformat_minor": 2,
 "cells": [
  {
   "source": [
    "Le KPI est un indicateur de clé de performance afin d'estimer par exemple pour une campagne les retombées de ce qu'il va se passé"
   ],
   "cell_type": "markdown",
   "metadata": {}
  },
  {
   "cell_type": "code",
   "execution_count": 1,
   "metadata": {},
   "outputs": [],
   "source": [
    "import pandas as pd\n",
    "import numpy as np"
   ]
  },
  {
   "cell_type": "code",
   "execution_count": 2,
   "metadata": {},
   "outputs": [],
   "source": [
    "data = pd.read_csv(\"./files/eval_data.csv\")"
   ]
  },
  {
   "cell_type": "code",
   "execution_count": 3,
   "metadata": {},
   "outputs": [
    {
     "output_type": "execute_result",
     "data": {
      "text/plain": [
       "    Unnamed: 0  order_id  quantity                              item_name  \\\n",
       "0            0         1         1           Chips and Fresh Tomato Salsa   \n",
       "1            1         1         1                                   Izze   \n",
       "2            2         1         1                       Nantucket Nectar   \n",
       "3            3         1         1  Chips and Tomatillo-Green Chili Salsa   \n",
       "4            4         2         2                           Chicken Bowl   \n",
       "5            5         3         1                           Chicken Bowl   \n",
       "6            6         3         1                          Side of Chips   \n",
       "7            7         4         1                          Steak Burrito   \n",
       "8            8         4         1                       Steak Soft Tacos   \n",
       "9            9         5         1                          Steak Burrito   \n",
       "10          10         5         1                    Chips and Guacamole   \n",
       "11          11         6         1                   Chicken Crispy Tacos   \n",
       "\n",
       "                                   choice_description item_price  \n",
       "0                                                 NaN        NaN  \n",
       "1                                        [Clementine]     $3.39   \n",
       "2                                             [Apple]     $3.39   \n",
       "3                                                 NaN        NaN  \n",
       "4   [Tomatillo-Red Chili Salsa (Hot), [Black Beans...    $16.98   \n",
       "5   [Fresh Tomato Salsa (Mild), [Rice, Cheese, Sou...    $10.98   \n",
       "6                                                 NaN     $1.69   \n",
       "7   [Tomatillo Red Chili Salsa, [Fajita Vegetables...    $11.75   \n",
       "8   [Tomatillo Green Chili Salsa, [Pinto Beans, Ch...     $9.25   \n",
       "9   [Fresh Tomato Salsa, [Rice, Black Beans, Pinto...     $9.25   \n",
       "10                                                NaN     $4.45   \n",
       "11  [Roasted Chili Corn Salsa, [Fajita Vegetables,...     $8.75   "
      ],
      "text/html": "<div>\n<style scoped>\n    .dataframe tbody tr th:only-of-type {\n        vertical-align: middle;\n    }\n\n    .dataframe tbody tr th {\n        vertical-align: top;\n    }\n\n    .dataframe thead th {\n        text-align: right;\n    }\n</style>\n<table border=\"1\" class=\"dataframe\">\n  <thead>\n    <tr style=\"text-align: right;\">\n      <th></th>\n      <th>Unnamed: 0</th>\n      <th>order_id</th>\n      <th>quantity</th>\n      <th>item_name</th>\n      <th>choice_description</th>\n      <th>item_price</th>\n    </tr>\n  </thead>\n  <tbody>\n    <tr>\n      <th>0</th>\n      <td>0</td>\n      <td>1</td>\n      <td>1</td>\n      <td>Chips and Fresh Tomato Salsa</td>\n      <td>NaN</td>\n      <td>NaN</td>\n    </tr>\n    <tr>\n      <th>1</th>\n      <td>1</td>\n      <td>1</td>\n      <td>1</td>\n      <td>Izze</td>\n      <td>[Clementine]</td>\n      <td>$3.39</td>\n    </tr>\n    <tr>\n      <th>2</th>\n      <td>2</td>\n      <td>1</td>\n      <td>1</td>\n      <td>Nantucket Nectar</td>\n      <td>[Apple]</td>\n      <td>$3.39</td>\n    </tr>\n    <tr>\n      <th>3</th>\n      <td>3</td>\n      <td>1</td>\n      <td>1</td>\n      <td>Chips and Tomatillo-Green Chili Salsa</td>\n      <td>NaN</td>\n      <td>NaN</td>\n    </tr>\n    <tr>\n      <th>4</th>\n      <td>4</td>\n      <td>2</td>\n      <td>2</td>\n      <td>Chicken Bowl</td>\n      <td>[Tomatillo-Red Chili Salsa (Hot), [Black Beans...</td>\n      <td>$16.98</td>\n    </tr>\n    <tr>\n      <th>5</th>\n      <td>5</td>\n      <td>3</td>\n      <td>1</td>\n      <td>Chicken Bowl</td>\n      <td>[Fresh Tomato Salsa (Mild), [Rice, Cheese, Sou...</td>\n      <td>$10.98</td>\n    </tr>\n    <tr>\n      <th>6</th>\n      <td>6</td>\n      <td>3</td>\n      <td>1</td>\n      <td>Side of Chips</td>\n      <td>NaN</td>\n      <td>$1.69</td>\n    </tr>\n    <tr>\n      <th>7</th>\n      <td>7</td>\n      <td>4</td>\n      <td>1</td>\n      <td>Steak Burrito</td>\n      <td>[Tomatillo Red Chili Salsa, [Fajita Vegetables...</td>\n      <td>$11.75</td>\n    </tr>\n    <tr>\n      <th>8</th>\n      <td>8</td>\n      <td>4</td>\n      <td>1</td>\n      <td>Steak Soft Tacos</td>\n      <td>[Tomatillo Green Chili Salsa, [Pinto Beans, Ch...</td>\n      <td>$9.25</td>\n    </tr>\n    <tr>\n      <th>9</th>\n      <td>9</td>\n      <td>5</td>\n      <td>1</td>\n      <td>Steak Burrito</td>\n      <td>[Fresh Tomato Salsa, [Rice, Black Beans, Pinto...</td>\n      <td>$9.25</td>\n    </tr>\n    <tr>\n      <th>10</th>\n      <td>10</td>\n      <td>5</td>\n      <td>1</td>\n      <td>Chips and Guacamole</td>\n      <td>NaN</td>\n      <td>$4.45</td>\n    </tr>\n    <tr>\n      <th>11</th>\n      <td>11</td>\n      <td>6</td>\n      <td>1</td>\n      <td>Chicken Crispy Tacos</td>\n      <td>[Roasted Chili Corn Salsa, [Fajita Vegetables,...</td>\n      <td>$8.75</td>\n    </tr>\n  </tbody>\n</table>\n</div>"
     },
     "metadata": {},
     "execution_count": 3
    }
   ],
   "source": [
    "data.head(12)"
   ]
  },
  {
   "cell_type": "code",
   "execution_count": 4,
   "metadata": {},
   "outputs": [
    {
     "output_type": "execute_result",
     "data": {
      "text/plain": [
       "(4622, 6)"
      ]
     },
     "metadata": {},
     "execution_count": 4
    }
   ],
   "source": [
    "data.shape"
   ]
  },
  {
   "cell_type": "code",
   "execution_count": 7,
   "metadata": {},
   "outputs": [
    {
     "output_type": "stream",
     "name": "stdout",
     "text": [
      "<class 'pandas.core.frame.DataFrame'>\nRangeIndex: 4622 entries, 0 to 4621\nData columns (total 6 columns):\n #   Column              Non-Null Count  Dtype \n---  ------              --------------  ----- \n 0   Unnamed: 0          4622 non-null   int64 \n 1   order_id            4622 non-null   int64 \n 2   quantity            4622 non-null   int64 \n 3   item_name           4622 non-null   object\n 4   choice_description  3376 non-null   object\n 5   item_price          4522 non-null   object\ndtypes: int64(3), object(3)\nmemory usage: 216.8+ KB\n"
     ]
    }
   ],
   "source": [
    "data.info()"
   ]
  },
  {
   "cell_type": "code",
   "execution_count": 6,
   "metadata": {},
   "outputs": [
    {
     "output_type": "execute_result",
     "data": {
      "text/plain": [
       "         Unnamed: 0     order_id     quantity     item_name  \\\n",
       "count   4622.000000  4622.000000  4622.000000          4622   \n",
       "unique          NaN          NaN          NaN            50   \n",
       "top             NaN          NaN          NaN  Chicken Bowl   \n",
       "freq            NaN          NaN          NaN           726   \n",
       "mean    2310.500000   927.254868     1.075725           NaN   \n",
       "std     1334.400802   528.890796     0.410186           NaN   \n",
       "min        0.000000     1.000000     1.000000           NaN   \n",
       "25%     1155.250000   477.250000     1.000000           NaN   \n",
       "50%     2310.500000   926.000000     1.000000           NaN   \n",
       "75%     3465.750000  1393.000000     1.000000           NaN   \n",
       "max     4621.000000  1834.000000    15.000000           NaN   \n",
       "\n",
       "       choice_description item_price  \n",
       "count                3376       4522  \n",
       "unique               1043         77  \n",
       "top           [Diet Coke]     $8.75   \n",
       "freq                  134        730  \n",
       "mean                  NaN        NaN  \n",
       "std                   NaN        NaN  \n",
       "min                   NaN        NaN  \n",
       "25%                   NaN        NaN  \n",
       "50%                   NaN        NaN  \n",
       "75%                   NaN        NaN  \n",
       "max                   NaN        NaN  "
      ],
      "text/html": "<div>\n<style scoped>\n    .dataframe tbody tr th:only-of-type {\n        vertical-align: middle;\n    }\n\n    .dataframe tbody tr th {\n        vertical-align: top;\n    }\n\n    .dataframe thead th {\n        text-align: right;\n    }\n</style>\n<table border=\"1\" class=\"dataframe\">\n  <thead>\n    <tr style=\"text-align: right;\">\n      <th></th>\n      <th>Unnamed: 0</th>\n      <th>order_id</th>\n      <th>quantity</th>\n      <th>item_name</th>\n      <th>choice_description</th>\n      <th>item_price</th>\n    </tr>\n  </thead>\n  <tbody>\n    <tr>\n      <th>count</th>\n      <td>4622.000000</td>\n      <td>4622.000000</td>\n      <td>4622.000000</td>\n      <td>4622</td>\n      <td>3376</td>\n      <td>4522</td>\n    </tr>\n    <tr>\n      <th>unique</th>\n      <td>NaN</td>\n      <td>NaN</td>\n      <td>NaN</td>\n      <td>50</td>\n      <td>1043</td>\n      <td>77</td>\n    </tr>\n    <tr>\n      <th>top</th>\n      <td>NaN</td>\n      <td>NaN</td>\n      <td>NaN</td>\n      <td>Chicken Bowl</td>\n      <td>[Diet Coke]</td>\n      <td>$8.75</td>\n    </tr>\n    <tr>\n      <th>freq</th>\n      <td>NaN</td>\n      <td>NaN</td>\n      <td>NaN</td>\n      <td>726</td>\n      <td>134</td>\n      <td>730</td>\n    </tr>\n    <tr>\n      <th>mean</th>\n      <td>2310.500000</td>\n      <td>927.254868</td>\n      <td>1.075725</td>\n      <td>NaN</td>\n      <td>NaN</td>\n      <td>NaN</td>\n    </tr>\n    <tr>\n      <th>std</th>\n      <td>1334.400802</td>\n      <td>528.890796</td>\n      <td>0.410186</td>\n      <td>NaN</td>\n      <td>NaN</td>\n      <td>NaN</td>\n    </tr>\n    <tr>\n      <th>min</th>\n      <td>0.000000</td>\n      <td>1.000000</td>\n      <td>1.000000</td>\n      <td>NaN</td>\n      <td>NaN</td>\n      <td>NaN</td>\n    </tr>\n    <tr>\n      <th>25%</th>\n      <td>1155.250000</td>\n      <td>477.250000</td>\n      <td>1.000000</td>\n      <td>NaN</td>\n      <td>NaN</td>\n      <td>NaN</td>\n    </tr>\n    <tr>\n      <th>50%</th>\n      <td>2310.500000</td>\n      <td>926.000000</td>\n      <td>1.000000</td>\n      <td>NaN</td>\n      <td>NaN</td>\n      <td>NaN</td>\n    </tr>\n    <tr>\n      <th>75%</th>\n      <td>3465.750000</td>\n      <td>1393.000000</td>\n      <td>1.000000</td>\n      <td>NaN</td>\n      <td>NaN</td>\n      <td>NaN</td>\n    </tr>\n    <tr>\n      <th>max</th>\n      <td>4621.000000</td>\n      <td>1834.000000</td>\n      <td>15.000000</td>\n      <td>NaN</td>\n      <td>NaN</td>\n      <td>NaN</td>\n    </tr>\n  </tbody>\n</table>\n</div>"
     },
     "metadata": {},
     "execution_count": 6
    }
   ],
   "source": [
    "data.describe(include=\"all\")"
   ]
  },
  {
   "cell_type": "code",
   "execution_count": 33,
   "metadata": {},
   "outputs": [
    {
     "output_type": "execute_result",
     "data": {
      "text/plain": [
       "      Unnamed: 0  order_id  quantity                     item_name  \\\n",
       "3598        3598      1443        15  Chips and Fresh Tomato Salsa   \n",
       "\n",
       "     choice_description item_price  \n",
       "3598                NaN    $44.25   "
      ],
      "text/html": "<div>\n<style scoped>\n    .dataframe tbody tr th:only-of-type {\n        vertical-align: middle;\n    }\n\n    .dataframe tbody tr th {\n        vertical-align: top;\n    }\n\n    .dataframe thead th {\n        text-align: right;\n    }\n</style>\n<table border=\"1\" class=\"dataframe\">\n  <thead>\n    <tr style=\"text-align: right;\">\n      <th></th>\n      <th>Unnamed: 0</th>\n      <th>order_id</th>\n      <th>quantity</th>\n      <th>item_name</th>\n      <th>choice_description</th>\n      <th>item_price</th>\n    </tr>\n  </thead>\n  <tbody>\n    <tr>\n      <th>3598</th>\n      <td>3598</td>\n      <td>1443</td>\n      <td>15</td>\n      <td>Chips and Fresh Tomato Salsa</td>\n      <td>NaN</td>\n      <td>$44.25</td>\n    </tr>\n  </tbody>\n</table>\n</div>"
     },
     "metadata": {},
     "execution_count": 33
    }
   ],
   "source": [
    "data[data['quantity'] == data['quantity'].max()]"
   ]
  },
  {
   "cell_type": "code",
   "execution_count": 12,
   "metadata": {},
   "outputs": [
    {
     "output_type": "execute_result",
     "data": {
      "text/plain": [
       "4972"
      ]
     },
     "metadata": {},
     "execution_count": 12
    }
   ],
   "source": [
    "data['quantity'].sum()"
   ]
  },
  {
   "cell_type": "code",
   "execution_count": 34,
   "metadata": {},
   "outputs": [
    {
     "output_type": "execute_result",
     "data": {
      "text/plain": [
       "34261.16"
      ]
     },
     "metadata": {},
     "execution_count": 34
    }
   ],
   "source": [
    "data['item_price'].replace('\\$', '', regex=True).astype(float).sum()"
   ]
  },
  {
   "cell_type": "code",
   "execution_count": 35,
   "metadata": {},
   "outputs": [
    {
     "output_type": "execute_result",
     "data": {
      "text/plain": [
       "7.57655019902698"
      ]
     },
     "metadata": {},
     "execution_count": 35
    }
   ],
   "source": [
    "data['item_price'].replace('\\$', '', regex=True).astype(float).mean()"
   ]
  }
 ]
}